{
  "nbformat": 4,
  "nbformat_minor": 0,
  "metadata": {
    "colab": {
      "provenance": [],
      "authorship_tag": "ABX9TyMWyD30ebHuqdhqRvZCGCOj",
      "include_colab_link": true
    },
    "kernelspec": {
      "name": "python3",
      "display_name": "Python 3"
    },
    "language_info": {
      "name": "python"
    }
  },
  "cells": [
    {
      "cell_type": "markdown",
      "metadata": {
        "id": "view-in-github",
        "colab_type": "text"
      },
      "source": [
        "<a href=\"https://colab.research.google.com/github/yami2587/cyber-security-01/blob/main/untitled2.ipynb\" target=\"_parent\"><img src=\"https://colab.research.google.com/assets/colab-badge.svg\" alt=\"Open In Colab\"/></a>"
      ]
    },
    {
      "cell_type": "code",
      "execution_count": null,
      "metadata": {
        "colab": {
          "base_uri": "https://localhost:8080/"
        },
        "id": "zM1MkcJ4NJCm",
        "outputId": "c8761f29-21f0-4fed-de70-6666c13bc88a"
      },
      "outputs": [
        {
          "output_type": "stream",
          "name": "stdout",
          "text": [
            "oringneln string = aman is a good in cyber security threts\n",
            "cypher string = sterht ytiruces rebyc ni doog a si nama\n"
          ]
        }
      ],
      "source": [
        "str ='aman is a good in cyber security threts'\n",
        "str1=''\n",
        "l=len(str)-1\n",
        "for i in range (l,-1,-1):\n",
        "  str1=str1+str[i]\n",
        "print('oringneln string =', str)\n",
        "print('cypher string =',str1)"
      ]
    },
    {
      "cell_type": "code",
      "source": [
        "from re import ASCII\n",
        "str='CHAMPA BHILAIZ'\n",
        "str1 =''\n",
        "l=len(str)/\n",
        "for i in range(0,l):\n",
        "  str1=str1+chr((ord(str[i]))+5)\n",
        "print('cypher test=',str1)"
      ],
      "metadata": {
        "colab": {
          "base_uri": "https://localhost:8080/"
        },
        "id": "oXmTgsiTOUap",
        "outputId": "f945fe58-8a8f-43a5-daf1-fc5efbb5e22e"
      },
      "execution_count": null,
      "outputs": [
        {
          "output_type": "stream",
          "name": "stdout",
          "text": [
            "cypher test= HMFRUF%GMNQFN_\n"
          ]
        }
      ]
    },
    {
      "cell_type": "code",
      "source": [
        "\n",
        "str='Hmfruf%gmnqfn%'\n",
        "str1=''\n",
        "l=len(str)\n",
        "for i in range(0,l):\n",
        "  str1=str1+chr((ord(str[i]))-5)\n",
        "print('oringnel code = ',str1)"
      ],
      "metadata": {
        "colab": {
          "base_uri": "https://localhost:8080/"
        },
        "id": "Qse5Nfx8PTgz",
        "outputId": "fa8be135-48c5-486a-be12-685e350a9523"
      },
      "execution_count": null,
      "outputs": [
        {
          "output_type": "stream",
          "name": "stdout",
          "text": [
            "oringnel code =  Champa bhilai \n"
          ]
        }
      ]
    },
    {
      "cell_type": "code",
      "source": [
        "for i in range (1,11):\n",
        "  print(i)"
      ],
      "metadata": {
        "id": "qorrFIWfPtfA",
        "colab": {
          "base_uri": "https://localhost:8080/"
        },
        "outputId": "c5cc8cb9-74aa-42b2-d07b-e2529ab3d2e2"
      },
      "execution_count": null,
      "outputs": [
        {
          "output_type": "stream",
          "name": "stdout",
          "text": [
            "1\n",
            "2\n",
            "3\n",
            "4\n",
            "5\n",
            "6\n",
            "7\n",
            "8\n",
            "9\n",
            "10\n"
          ]
        }
      ]
    },
    {
      "cell_type": "code",
      "source": [
        "from re import ASCII\n",
        "str='hi its aman raj '\n",
        "str1 =''\n",
        "l=len(str)\n",
        "for i in range(0,l):\n",
        "  if(str[i].isupper()):\n",
        "     str1=str1+chr((ord(str[i])+5-65)%26+65)\n",
        "  else:\n",
        "     str1=str1+chr((ord(str[i])+5-97)%26+97)\n",
        "print('cypher test=',str1)"
      ],
      "metadata": {
        "colab": {
          "base_uri": "https://localhost:8080/"
        },
        "id": "t5USed_PUOSp",
        "outputId": "0c41f13b-029a-4786-96d1-6699138bc7bc"
      },
      "execution_count": null,
      "outputs": [
        {
          "output_type": "stream",
          "name": "stdout",
          "text": [
            "cypher test= mnsnyxsfrfsswfos\n"
          ]
        }
      ]
    },
    {
      "cell_type": "code",
      "source": [
        "from re import ASCII\n",
        "str='mnsnyxsfrfsswfos'\n",
        "str1 =''\n",
        "l=len(str)\n",
        "for i in range(0,l):\n",
        "  if(str[i].isupper()):\n",
        "    str1=str1+chr((ord(str[i])-5-65)%26+65)\n",
        "  elif(str[i].islower()):\n",
        "    str1=str1+chr((ord(str[i])-5-97)%26+97)\n",
        "  else:\n",
        "    print('given text ',str)\n",
        "print('orijnal text ',str1)"
      ],
      "metadata": {
        "colab": {
          "base_uri": "https://localhost:8080/"
        },
        "id": "TAQbXeLGWckF",
        "outputId": "86658aeb-a74d-4eca-e5d3-5204176bd5f0"
      },
      "execution_count": null,
      "outputs": [
        {
          "output_type": "stream",
          "name": "stdout",
          "text": [
            "orijnal text  hinitsnamannrajn\n"
          ]
        }
      ]
    },
    {
      "cell_type": "code",
      "source": [
        "#prime um\n",
        "num=12\n",
        "i=2\n",
        "y=0\n",
        "while(i <= num/2):\n",
        "  if(num%i==0):\n",
        "    y=1\n",
        "    break\n",
        "  if(y==0):\n",
        "    print('num is prime')\n",
        "  else:\n",
        "    print('num is not prime')\n",
        "\n"
      ],
      "metadata": {
        "id": "B8BLSyrveFjw"
      },
      "execution_count": null,
      "outputs": []
    },
    {
      "cell_type": "code",
      "source": [],
      "metadata": {
        "id": "o2np8OuwfDch"
      },
      "execution_count": null,
      "outputs": []
    },
    {
      "cell_type": "code",
      "source": [
        "for i in range(1,101):\n",
        "  print(i)"
      ],
      "metadata": {
        "colab": {
          "base_uri": "https://localhost:8080/"
        },
        "id": "9F4MjHGFdIWt",
        "outputId": "14444496-5374-4d13-93c0-04db03be7b16"
      },
      "execution_count": null,
      "outputs": [
        {
          "output_type": "stream",
          "name": "stdout",
          "text": [
            "1\n",
            "2\n",
            "3\n",
            "4\n",
            "5\n",
            "6\n",
            "7\n",
            "8\n",
            "9\n",
            "10\n",
            "11\n",
            "12\n",
            "13\n",
            "14\n",
            "15\n",
            "16\n",
            "17\n",
            "18\n",
            "19\n",
            "20\n",
            "21\n",
            "22\n",
            "23\n",
            "24\n",
            "25\n",
            "26\n",
            "27\n",
            "28\n",
            "29\n",
            "30\n",
            "31\n",
            "32\n",
            "33\n",
            "34\n",
            "35\n",
            "36\n",
            "37\n",
            "38\n",
            "39\n",
            "40\n",
            "41\n",
            "42\n",
            "43\n",
            "44\n",
            "45\n",
            "46\n",
            "47\n",
            "48\n",
            "49\n",
            "50\n",
            "51\n",
            "52\n",
            "53\n",
            "54\n",
            "55\n",
            "56\n",
            "57\n",
            "58\n",
            "59\n",
            "60\n",
            "61\n",
            "62\n",
            "63\n",
            "64\n",
            "65\n",
            "66\n",
            "67\n",
            "68\n",
            "69\n",
            "70\n",
            "71\n",
            "72\n",
            "73\n",
            "74\n",
            "75\n",
            "76\n",
            "77\n",
            "78\n",
            "79\n",
            "80\n",
            "81\n",
            "82\n",
            "83\n",
            "84\n",
            "85\n",
            "86\n",
            "87\n",
            "88\n",
            "89\n",
            "90\n",
            "91\n",
            "92\n",
            "93\n",
            "94\n",
            "95\n",
            "96\n",
            "97\n",
            "98\n",
            "99\n",
            "100\n"
          ]
        }
      ]
    },
    {
      "cell_type": "code",
      "source": [
        "for i in range(1,11,2):\n",
        "    print(i)"
      ],
      "metadata": {
        "id": "1Zf4FGfaZ6_l",
        "colab": {
          "base_uri": "https://localhost:8080/"
        },
        "outputId": "aa028223-9561-4f6f-f889-e6ca4c020583"
      },
      "execution_count": null,
      "outputs": [
        {
          "output_type": "stream",
          "name": "stdout",
          "text": [
            "1\n",
            "3\n",
            "5\n",
            "7\n",
            "9\n"
          ]
        }
      ]
    },
    {
      "cell_type": "code",
      "source": [
        "def addition(x,b):\n",
        "       print('addition =',x+b)\n",
        "\n",
        "addition(4,8)"
      ],
      "metadata": {
        "colab": {
          "base_uri": "https://localhost:8080/"
        },
        "id": "VvAqZp9gdFSc",
        "outputId": "a65d72d5-9af8-46ce-f137-c0b92298a078"
      },
      "execution_count": null,
      "outputs": [
        {
          "output_type": "stream",
          "name": "stdout",
          "text": [
            "addition = 12\n"
          ]
        }
      ]
    },
    {
      "cell_type": "markdown",
      "source": [
        "10 oct 2023\n"
      ],
      "metadata": {
        "id": "nhk-laVUpVaC"
      }
    },
    {
      "cell_type": "code",
      "source": [
        "print('program for simple calcu.')\n",
        "#print('enter your choice:-')\n",
        "print('''\n",
        "         1.addition\n",
        "         2.sub\n",
        "         3.mul\n",
        "         4.div\n",
        "         5.exit\n",
        "        ''')\n",
        "\n",
        "i=input('enter your choice:')\n",
        "a=int(input('enter 1st num:'))\n",
        "b=int(input(\"enter a 2nd num:\"))\n",
        "\n",
        "try:\n",
        "\n",
        " match i:\n",
        "     case'1':\n",
        "        print(a+b)\n",
        "     case'2':\n",
        "        print(a-b)\n",
        "     case'3':\n",
        "        print(a*b)\n",
        "     case'4':\n",
        "        print(a/b)\n",
        "     case'5':\n",
        "        exit\n",
        "\n",
        "except(DivideByZero):\n",
        "     print('invalid input')\n"
      ],
      "metadata": {
        "colab": {
          "base_uri": "https://localhost:8080/",
          "height": 530
        },
        "id": "31UZET26fEtX",
        "outputId": "f2303d16-2245-4f35-92a5-eeecb878265d"
      },
      "execution_count": null,
      "outputs": [
        {
          "output_type": "stream",
          "name": "stdout",
          "text": [
            "program for simple calcu.\n",
            "\n",
            "         1.addition\n",
            "         2.sub\n",
            "         3.mul\n",
            "         4.div \n",
            "         5.exit\n",
            "        \n"
          ]
        },
        {
          "output_type": "error",
          "ename": "KeyboardInterrupt",
          "evalue": "ignored",
          "traceback": [
            "\u001b[0;31m---------------------------------------------------------------------------\u001b[0m",
            "\u001b[0;31mKeyboardInterrupt\u001b[0m                         Traceback (most recent call last)",
            "\u001b[0;32m<ipython-input-2-310f3c4a3ead>\u001b[0m in \u001b[0;36m<cell line: 11>\u001b[0;34m()\u001b[0m\n\u001b[1;32m      9\u001b[0m         ''')\n\u001b[1;32m     10\u001b[0m \u001b[0;34m\u001b[0m\u001b[0m\n\u001b[0;32m---> 11\u001b[0;31m \u001b[0mi\u001b[0m\u001b[0;34m=\u001b[0m\u001b[0minput\u001b[0m\u001b[0;34m(\u001b[0m\u001b[0;34m'enter your choice:'\u001b[0m\u001b[0;34m)\u001b[0m\u001b[0;34m\u001b[0m\u001b[0;34m\u001b[0m\u001b[0m\n\u001b[0m\u001b[1;32m     12\u001b[0m \u001b[0ma\u001b[0m\u001b[0;34m=\u001b[0m\u001b[0mint\u001b[0m\u001b[0;34m(\u001b[0m\u001b[0minput\u001b[0m\u001b[0;34m(\u001b[0m\u001b[0;34m'enter 1st num:'\u001b[0m\u001b[0;34m)\u001b[0m\u001b[0;34m)\u001b[0m\u001b[0;34m\u001b[0m\u001b[0;34m\u001b[0m\u001b[0m\n\u001b[1;32m     13\u001b[0m \u001b[0mb\u001b[0m\u001b[0;34m=\u001b[0m\u001b[0mint\u001b[0m\u001b[0;34m(\u001b[0m\u001b[0minput\u001b[0m\u001b[0;34m(\u001b[0m\u001b[0;34m\"enter a 2nd num:\"\u001b[0m\u001b[0;34m)\u001b[0m\u001b[0;34m)\u001b[0m\u001b[0;34m\u001b[0m\u001b[0;34m\u001b[0m\u001b[0m\n",
            "\u001b[0;32m/usr/local/lib/python3.10/dist-packages/ipykernel/kernelbase.py\u001b[0m in \u001b[0;36mraw_input\u001b[0;34m(self, prompt)\u001b[0m\n\u001b[1;32m    849\u001b[0m                 \u001b[0;34m\"raw_input was called, but this frontend does not support input requests.\"\u001b[0m\u001b[0;34m\u001b[0m\u001b[0;34m\u001b[0m\u001b[0m\n\u001b[1;32m    850\u001b[0m             )\n\u001b[0;32m--> 851\u001b[0;31m         return self._input_request(str(prompt),\n\u001b[0m\u001b[1;32m    852\u001b[0m             \u001b[0mself\u001b[0m\u001b[0;34m.\u001b[0m\u001b[0m_parent_ident\u001b[0m\u001b[0;34m,\u001b[0m\u001b[0;34m\u001b[0m\u001b[0;34m\u001b[0m\u001b[0m\n\u001b[1;32m    853\u001b[0m             \u001b[0mself\u001b[0m\u001b[0;34m.\u001b[0m\u001b[0m_parent_header\u001b[0m\u001b[0;34m,\u001b[0m\u001b[0;34m\u001b[0m\u001b[0;34m\u001b[0m\u001b[0m\n",
            "\u001b[0;32m/usr/local/lib/python3.10/dist-packages/ipykernel/kernelbase.py\u001b[0m in \u001b[0;36m_input_request\u001b[0;34m(self, prompt, ident, parent, password)\u001b[0m\n\u001b[1;32m    893\u001b[0m             \u001b[0;32mexcept\u001b[0m \u001b[0mKeyboardInterrupt\u001b[0m\u001b[0;34m:\u001b[0m\u001b[0;34m\u001b[0m\u001b[0;34m\u001b[0m\u001b[0m\n\u001b[1;32m    894\u001b[0m                 \u001b[0;31m# re-raise KeyboardInterrupt, to truncate traceback\u001b[0m\u001b[0;34m\u001b[0m\u001b[0;34m\u001b[0m\u001b[0m\n\u001b[0;32m--> 895\u001b[0;31m                 \u001b[0;32mraise\u001b[0m \u001b[0mKeyboardInterrupt\u001b[0m\u001b[0;34m(\u001b[0m\u001b[0;34m\"Interrupted by user\"\u001b[0m\u001b[0;34m)\u001b[0m \u001b[0;32mfrom\u001b[0m \u001b[0;32mNone\u001b[0m\u001b[0;34m\u001b[0m\u001b[0;34m\u001b[0m\u001b[0m\n\u001b[0m\u001b[1;32m    896\u001b[0m             \u001b[0;32mexcept\u001b[0m \u001b[0mException\u001b[0m \u001b[0;32mas\u001b[0m \u001b[0me\u001b[0m\u001b[0;34m:\u001b[0m\u001b[0;34m\u001b[0m\u001b[0;34m\u001b[0m\u001b[0m\n\u001b[1;32m    897\u001b[0m                 \u001b[0mself\u001b[0m\u001b[0;34m.\u001b[0m\u001b[0mlog\u001b[0m\u001b[0;34m.\u001b[0m\u001b[0mwarning\u001b[0m\u001b[0;34m(\u001b[0m\u001b[0;34m\"Invalid Message:\"\u001b[0m\u001b[0;34m,\u001b[0m \u001b[0mexc_info\u001b[0m\u001b[0;34m=\u001b[0m\u001b[0;32mTrue\u001b[0m\u001b[0;34m)\u001b[0m\u001b[0;34m\u001b[0m\u001b[0;34m\u001b[0m\u001b[0m\n",
            "\u001b[0;31mKeyboardInterrupt\u001b[0m: Interrupted by user"
          ]
        }
      ]
    },
    {
      "cell_type": "code",
      "source": [
        "print('program for simple calcu.')\n",
        "while True:\n",
        "    print('''\n",
        "         1.addition\n",
        "         2.sub\n",
        "         3.mul\n",
        "         4.div\n",
        "         5.exit\n",
        "        ''')\n",
        "    i=input('enter your choice:')\n",
        "\n",
        "\n",
        "    match i:\n",
        "      case'1':\n",
        "         a=int(input('enter 1st num:'))\n",
        "         b=int(input(\"enter a 2nd num:\"))\n",
        "         print('addition:',a+b)\n",
        "      case'2':\n",
        "         a=int(input('enter 1st num:'))\n",
        "         b=int(input(\"enter a 2nd num:\"))\n",
        "         print('sub:',a-b)\n",
        "      case'3':\n",
        "         a=int(input('enter 1st num:'))\n",
        "         b=int(input(\"enter a 2nd num:\"))\n",
        "         print('mul:',a*b)\n",
        "      case'4':\n",
        "         a=int(input('enter 1st num:'))\n",
        "         b=int(input(\"enter a 2nd num:\"))\n",
        "         print('div:',a/b)\n",
        "      case'5':\n",
        "         break\n",
        "\n",
        "\n",
        "# x=input('do you want to continue(y/n)..?')\n",
        "\n",
        "# if x=='n':\n",
        "#       break\n",
        "\n"
      ],
      "metadata": {
        "colab": {
          "base_uri": "https://localhost:8080/"
        },
        "id": "ybUxNY4clxPO",
        "outputId": "876a4ed1-988e-4d3b-ea4b-155ee78d7e60"
      },
      "execution_count": null,
      "outputs": [
        {
          "name": "stdout",
          "output_type": "stream",
          "text": [
            "program for simple calcu.\n",
            "\n",
            "         1.addition\n",
            "         2.sub\n",
            "         3.mul\n",
            "         4.div \n",
            "         5.exit\n",
            "        \n",
            "enter your choice:2\n",
            "enter 1st num:12\n",
            "enter a 2nd num:23\n",
            "sub -11\n",
            "\n",
            "         1.addition\n",
            "         2.sub\n",
            "         3.mul\n",
            "         4.div \n",
            "         5.exit\n",
            "        \n",
            "enter your choice:5\n"
          ]
        }
      ]
    },
    {
      "cell_type": "markdown",
      "source": [
        "class types in ehih var are public"
      ],
      "metadata": {
        "id": "JVZimbnqLuXr"
      }
    },
    {
      "cell_type": "code",
      "source": [
        "class demo:\n",
        "    name='yami'\n",
        "    age='20'\n",
        "obj1=demo\n",
        "print('name:',obj1.name)\n",
        "print('age:',obj1.age)\n"
      ],
      "metadata": {
        "colab": {
          "base_uri": "https://localhost:8080/"
        },
        "id": "S_f8e-KDoaz5",
        "outputId": "5e9d5aba-26c0-4bdb-f349-d566ffbee722"
      },
      "execution_count": null,
      "outputs": [
        {
          "output_type": "stream",
          "name": "stdout",
          "text": [
            "name: yami\n",
            "age: 20\n"
          ]
        }
      ]
    },
    {
      "cell_type": "markdown",
      "source": [],
      "metadata": {
        "id": "LbUP9V56NwEo"
      }
    },
    {
      "cell_type": "markdown",
      "source": [
        "let think we have class with private var\n",
        "26oct 2023"
      ],
      "metadata": {
        "id": "rIEZgKVjLyTE"
      }
    },
    {
      "cell_type": "code",
      "source": [
        "class course:\n",
        "  _cname=''\n",
        "  _duration=''\n",
        "  _fee=''\n",
        "\n",
        "  def getdata():\n",
        "    _cname='btech'\n",
        "    _duration='4year'\n",
        "    _fee='70000'\n",
        "  def putdata():\n",
        "    print('course name:',_cname)\n",
        "    print('duration :',_duration)\n",
        "    print('fee:',_fee)\n",
        "\n",
        "\n",
        "y1=course\n",
        "y1.getdata()\n",
        "y1.putdata()\n",
        ""
      ],
      "metadata": {
        "colab": {
          "base_uri": "https://localhost:8080/"
        },
        "id": "KoMA1IZdL4Bv",
        "outputId": "87a0fde9-9536-4520-d1f3-46367cd7ecab"
      },
      "execution_count": 6,
      "outputs": [
        {
          "output_type": "stream",
          "name": "stdout",
          "text": [
            "course name: Btech\n",
            "duration :  3years\n",
            "fee: 40000\n"
          ]
        }
      ]
    },
    {
      "cell_type": "code",
      "source": [
        "class course:\n",
        "  def __init__(self,s,d,f):\n",
        "    self._cname=s\n",
        "    self._duration=d\n",
        "    self._fee=f\n",
        "\n",
        "\n",
        "\n",
        "  def putdata(self):\n",
        "    print('course name:',self._cname)\n",
        "    print('duration :',self._duration)\n",
        "    print('fee:',self._fee)\n",
        "\n",
        "y1=course('Btech',' 4years',40000)\n",
        "y1.putdata()\n",
        ""
      ],
      "metadata": {
        "colab": {
          "base_uri": "https://localhost:8080/"
        },
        "id": "yNyeu8PYP2wS",
        "outputId": "56f6ec35-1a82-4b74-a1f3-c49686293fda"
      },
      "execution_count": 7,
      "outputs": [
        {
          "output_type": "stream",
          "name": "stdout",
          "text": [
            "course name: Btech\n",
            "duration :  3years\n",
            "fee: 40000\n"
          ]
        }
      ]
    },
    {
      "cell_type": "markdown",
      "source": [
        "create a class and consteructer thatts take sub no of 5 num and return its in percentage"
      ],
      "metadata": {
        "id": "CrimunLMXeRZ"
      }
    },
    {
      "cell_type": "code",
      "source": [
        "#pro03\n",
        "class course:\n",
        "  def __init__(self,s1,s2,s3,s4,s5):\n",
        "    self.math=s1\n",
        "    self.phy=s2\n",
        "    self.chm=s3\n",
        "    self.eng=s4\n",
        "    self.hin=s5\n",
        "\n",
        "  def printdata(self):\n",
        "     print('math',self.math)\n",
        "     print('phy',self.phy)\n",
        "     print('chm',self.chm)\n",
        "     print('eng',self.eng)\n",
        "     print('hin',self.hin)\n",
        "  def percentage(self):\n",
        "     return((self.math+self.phy+self.chm+self.eng+self.hin)/5)\n",
        "\n",
        "c1=course(78,89,56,96,99)\n",
        "c1.printdata()\n",
        "c1.percentage()\n"
      ],
      "metadata": {
        "id": "U2FRSQTRXnYS"
      },
      "execution_count": null,
      "outputs": []
    }
  ]
}