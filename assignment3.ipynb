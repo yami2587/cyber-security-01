{
 "cells": [
  {
   "cell_type": "code",
   "execution_count": 1,
   "metadata": {},
   "outputs": [
    {
     "name": "stdout",
     "output_type": "stream",
     "text": [
      "enter your salary [00000-00000] ::\n",
      "for salary of  180000 you get a bonus of : 6300.000000000001 rs\n",
      "your total salary : 186300.0 rs\n"
     ]
    }
   ],
   "source": [
    "#ASSIGNMENT 3\n",
    "#q1 \n",
    "def calculate_percentage(how, amount):\n",
    "    percentage=(how/100)*amount\n",
    "    return percentage\n",
    "\n",
    "n = int(input(print('enter your salary [00000-00000] ::')))\n",
    "print('for salary of ',n, 'you get a bonus of :' ,end=\" \")\n",
    "\n",
    "if n>=200000:\n",
    "    a=calculate_percentage(4 ,n)\n",
    "    print(a ,'rs' )\n",
    "    print('your total salary :',(n+a) ,'rs')\n",
    "    exit\n",
    "\n",
    "elif n<200000 or n>=150000:\n",
    "    b=calculate_percentage(3.5,n)\n",
    "    print( b ,'rs' )\n",
    "    print('your total salary :',(n+b) , 'rs')\n",
    "    exit\n",
    "elif n<150000 or n>=100000:\n",
    "    b=calculate_percentage(2.5,n)\n",
    "    print(b +'rs' )\n",
    "    print('your total salary :',(n+b) , 'rs')\n",
    "    exit\n",
    "\n",
    "elif n<100000:\n",
    "    b=calculate_percentage(1.5,n)\n",
    "    print(b +'rs' )\n",
    "    print('your total salary :',(n+b) , 'rs')\n",
    "    exit\n",
    "\n",
    "\n",
    "\n",
    "    "
   ]
  },
  {
   "cell_type": "code",
   "execution_count": 10,
   "metadata": {},
   "outputs": [
    {
     "name": "stdout",
     "output_type": "stream",
     "text": [
      "num of employes which id is even,they can come to office on [moneday-wedensday-friday]\n"
     ]
    }
   ],
   "source": [
    "#Q2\n",
    "#even id employes ---\n",
    "id=int(input('enter your employe id :'))\n",
    "c=0\n",
    "\n",
    "if id % 2 == 0:\n",
    "    print( 'num of employes which id is even,they can come to office on [moneday-wedensday-friday]' )\n",
    "else:\n",
    "    print('odd id num employes come on [tuesday-thrusday-saturday] ')\n"
   ]
  },
  {
   "cell_type": "code",
   "execution_count": 14,
   "metadata": {},
   "outputs": [
    {
     "name": "stdout",
     "output_type": "stream",
     "text": [
      "2\n",
      "3\n",
      "5\n",
      "7\n",
      "11\n",
      "13\n",
      "17\n",
      "19\n",
      "23\n",
      "29\n",
      "31\n",
      "37\n",
      "41\n",
      "43\n",
      "47\n",
      "53\n",
      "59\n",
      "61\n",
      "67\n",
      "71\n",
      "73\n",
      "79\n",
      "83\n",
      "89\n",
      "97\n"
     ]
    }
   ],
   "source": [
    "#ass3Q3\n",
    "#prime num \n",
    "l=100\n",
    "for n in range(2,l+1):\n",
    " prime= True\n",
    " for i in range(2,int(n**0.5)+1):\n",
    "    if n % i == 0:\n",
    "      prime= False\n",
    "      break\n",
    " if prime:\n",
    "  print(n)\n",
    "      "
   ]
  },
  {
   "cell_type": "code",
   "execution_count": 15,
   "metadata": {},
   "outputs": [
    {
     "name": "stdout",
     "output_type": "stream",
     "text": [
      "0\n",
      "1\n",
      "1\n",
      "2\n",
      "3\n",
      "5\n",
      "8\n",
      "13\n"
     ]
    }
   ],
   "source": [
    "#assignment3 q4 \n",
    "#fibonnaci \n",
    "n=8\n",
    "i=-1\n",
    "j=1\n",
    "while(n>0):\n",
    "    c = i+j\n",
    "    print(c)\n",
    "    i=j\n",
    "    j=c\n",
    "    n=n-1\n"
   ]
  },
  {
   "cell_type": "code",
   "execution_count": 17,
   "metadata": {},
   "outputs": [
    {
     "name": "stdout",
     "output_type": "stream",
     "text": [
      "sum of digit is: 15\n"
     ]
    }
   ],
   "source": [
    "#assignmet 3 q5\n",
    "#sum of digit \n",
    "n=int(input('enter any num :'))#12345\n",
    "s=0\n",
    "while n>0:\n",
    "    d= n % 10 \n",
    "    s +=d\n",
    "    n //=10\n",
    "print('sum of digit is:',s)"
   ]
  }
 ],
 "metadata": {
  "kernelspec": {
   "display_name": "Python 3",
   "language": "python",
   "name": "python3"
  },
  "language_info": {
   "codemirror_mode": {
    "name": "ipython",
    "version": 3
   },
   "file_extension": ".py",
   "mimetype": "text/x-python",
   "name": "python",
   "nbconvert_exporter": "python",
   "pygments_lexer": "ipython3",
   "version": "3.11.7"
  }
 },
 "nbformat": 4,
 "nbformat_minor": 2
}
